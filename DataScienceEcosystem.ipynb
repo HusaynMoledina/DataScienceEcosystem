{
 "cells": [
  {
   "cell_type": "markdown",
   "id": "c3f8d047-1730-4d10-a130-eea38c1b13d0",
   "metadata": {},
   "source": [
    "# Data Science Tools and Ecosystem"
   ]
  },
  {
   "cell_type": "markdown",
   "id": "4020ee6a-1880-4f7a-a361-d4b33ca67c9e",
   "metadata": {},
   "source": [
    "![Image](2-title.png)"
   ]
  },
  {
   "cell_type": "markdown",
   "id": "572093ed-3e03-4594-9a8e-ad68982c47f6",
   "metadata": {},
   "source": [
    "In this notebook, Data Science Tools and Ecosystem are summarized"
   ]
  },
  {
   "cell_type": "markdown",
   "id": "9add5a5b-b4eb-4aae-bc51-b6ffd10cde85",
   "metadata": {},
   "source": [
    "![Image](3-intro.png)"
   ]
  },
  {
   "cell_type": "markdown",
   "id": "cfa99175-75ec-4136-b988-948e56992f33",
   "metadata": {},
   "source": [
    "Objectives:\n",
    "- List popular languages for Data Science\n",
    "- List commonly used libraries for Data Science\n",
    "- Give an expression to convert hours into minutes"
   ]
  },
  {
   "cell_type": "markdown",
   "id": "cd0952f8-2d70-4417-91fd-cda319e1bfbf",
   "metadata": {},
   "source": [
    "![Image](10-objectives.png)"
   ]
  },
  {
   "cell_type": "markdown",
   "id": "38f8526b-0730-46d5-8fed-4df9b34b431b",
   "metadata": {},
   "source": [
    "Some of the popular languages that Data Scientists use are:\n",
    "1. Python\n",
    "2. SQL\n",
    "3. R "
   ]
  },
  {
   "cell_type": "markdown",
   "id": "b0bbd5cf-4155-48bc-9b0a-6596bcec6954",
   "metadata": {},
   "source": [
    "![Image](4-dslanguages.png)"
   ]
  },
  {
   "cell_type": "markdown",
   "id": "579a8d5d-b598-4471-8b69-a2001fc6c910",
   "metadata": {},
   "source": [
    "Some of the commonly used libraries used by Data Scientists include:\n",
    "1. Pandas\n",
    "2. Numpy\n",
    "3. Matplotlib\n",
    "4. Seaborn"
   ]
  },
  {
   "cell_type": "markdown",
   "id": "c445e8d3-24aa-4434-8cad-df1bdbd4ac27",
   "metadata": {},
   "source": [
    "![Image](5-dslibraries.png)"
   ]
  },
  {
   "cell_type": "markdown",
   "id": "d89dc981-16b9-4494-bdf4-81bde96168e3",
   "metadata": {},
   "source": [
    "| Data Science Tools |\n",
    "| - |\n",
    "| Jupyter Notebooks | \n",
    "| RStudio |\n",
    "| Jupyter Lab |"
   ]
  },
  {
   "cell_type": "markdown",
   "id": "2dcc1411-607a-4cb4-8de6-a1a8500f0fcb",
   "metadata": {},
   "source": [
    "![Image](6-dstools.png)"
   ]
  },
  {
   "cell_type": "markdown",
   "id": "88e68662-627a-4fe4-8e69-bb06aaae49fb",
   "metadata": {},
   "source": [
    "### Below are a few examples of evaluating arithmetic expressions in Python"
   ]
  },
  {
   "cell_type": "markdown",
   "id": "0cb89e73-c331-4255-a048-0435a0a4802c",
   "metadata": {},
   "source": [
    "![Image](7-introarithmetic.png)"
   ]
  },
  {
   "cell_type": "code",
   "execution_count": 5,
   "id": "d8c3a103-ee4c-4bad-9435-9813b7573845",
   "metadata": {},
   "outputs": [
    {
     "data": {
      "text/plain": [
       "17"
      ]
     },
     "execution_count": 5,
     "metadata": {},
     "output_type": "execute_result"
    }
   ],
   "source": [
    "# This a simple arithmetic expression to mutiply then add integers\n",
    "(3*4)+5"
   ]
  },
  {
   "cell_type": "markdown",
   "id": "741bb202-dc2d-4480-9173-06884d42e494",
   "metadata": {},
   "source": [
    "![Image](8-multiplyandaddintegers.png)"
   ]
  },
  {
   "cell_type": "code",
   "execution_count": 6,
   "id": "aeeb1a59-12a8-4d36-aada-5d57efba50ea",
   "metadata": {},
   "outputs": [
    {
     "data": {
      "text/plain": [
       "3.3333333333333335"
      ]
     },
     "execution_count": 6,
     "metadata": {},
     "output_type": "execute_result"
    }
   ],
   "source": [
    "# This will convert 200 minutes to hours by diving by 60\n",
    "200/60"
   ]
  },
  {
   "cell_type": "markdown",
   "id": "dfc15d09-ef65-4ed5-804f-3f20e3707e37",
   "metadata": {},
   "source": [
    "![Image](9-hourstominutes.png)"
   ]
  },
  {
   "cell_type": "markdown",
   "id": "16bbc4c9-aaf1-4c6d-aae2-b3854d24d71a",
   "metadata": {},
   "source": [
    "## Author\n",
    "Husayn Moledina"
   ]
  },
  {
   "cell_type": "markdown",
   "id": "d925971e-7e25-4e1a-bc02-358b4241634e",
   "metadata": {},
   "source": [
    "![Image](11-authordetails.png)"
   ]
  },
  {
   "cell_type": "code",
   "execution_count": null,
   "id": "fcf52454-923b-4d87-bcd1-26d263d226c1",
   "metadata": {},
   "outputs": [],
   "source": []
  }
 ],
 "metadata": {
  "kernelspec": {
   "display_name": "Python 3 (ipykernel)",
   "language": "python",
   "name": "python3"
  },
  "language_info": {
   "codemirror_mode": {
    "name": "ipython",
    "version": 3
   },
   "file_extension": ".py",
   "mimetype": "text/x-python",
   "name": "python",
   "nbconvert_exporter": "python",
   "pygments_lexer": "ipython3",
   "version": "3.12.3"
  }
 },
 "nbformat": 4,
 "nbformat_minor": 5
}
